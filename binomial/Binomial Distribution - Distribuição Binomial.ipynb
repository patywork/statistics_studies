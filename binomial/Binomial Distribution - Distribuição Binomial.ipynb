{
 "cells": [
  {
   "cell_type": "markdown",
   "id": "3fd72998",
   "metadata": {},
   "source": [
    "# Binomial Distribution #\n",
    "\n",
    "**Objective:** Development of the Binomial Distribution Analysis to understand how I can calculate and plot it using Python's libraries.</p> \n",
    "**Source**: https://www.kaggle.com/datasets/lmackerman/practice-binomial-data\n",
    "\n",
    "**Objetivo**: Desenvolver uma análise utilizando Distribuição Binomial para entender como posso cálcular e plotar gráficos utilizando Python.</p>\n",
    "**Fonte**:https://www.kaggle.com/datasets/lmackerman/practice-binomial-data"
   ]
  },
  {
   "cell_type": "code",
   "execution_count": 21,
   "id": "cad0ee28",
   "metadata": {},
   "outputs": [],
   "source": [
    "import numpy as np\n",
    "import pandas as pd\n",
    "import seaborn as sns\n",
    "import matplotlib.pyplot as plt\n",
    "\n",
    "from scipy.stats import binom"
   ]
  },
  {
   "cell_type": "code",
   "execution_count": 24,
   "id": "4d9d2c8b",
   "metadata": {},
   "outputs": [],
   "source": [
    "# set fig size\n",
    "plt.rcParams[\"figure.figsize\"] = (15,5) "
   ]
  },
  {
   "cell_type": "code",
   "execution_count": 2,
   "id": "d8a632d2",
   "metadata": {},
   "outputs": [],
   "source": [
    "data=pd.read_csv('data.csv')"
   ]
  },
  {
   "cell_type": "code",
   "execution_count": 3,
   "id": "cc8992b8",
   "metadata": {},
   "outputs": [
    {
     "data": {
      "text/html": [
       "<div>\n",
       "<style scoped>\n",
       "    .dataframe tbody tr th:only-of-type {\n",
       "        vertical-align: middle;\n",
       "    }\n",
       "\n",
       "    .dataframe tbody tr th {\n",
       "        vertical-align: top;\n",
       "    }\n",
       "\n",
       "    .dataframe thead th {\n",
       "        text-align: right;\n",
       "    }\n",
       "</style>\n",
       "<table border=\"1\" class=\"dataframe\">\n",
       "  <thead>\n",
       "    <tr style=\"text-align: right;\">\n",
       "      <th></th>\n",
       "      <th>experiment</th>\n",
       "      <th>subject</th>\n",
       "      <th>item</th>\n",
       "      <th>condition</th>\n",
       "      <th>selection</th>\n",
       "      <th>selectCode</th>\n",
       "    </tr>\n",
       "  </thead>\n",
       "  <tbody>\n",
       "    <tr>\n",
       "      <th>0</th>\n",
       "      <td>first</td>\n",
       "      <td>1</td>\n",
       "      <td>1</td>\n",
       "      <td>Baseline</td>\n",
       "      <td>Option 2</td>\n",
       "      <td>0</td>\n",
       "    </tr>\n",
       "    <tr>\n",
       "      <th>1</th>\n",
       "      <td>first</td>\n",
       "      <td>1</td>\n",
       "      <td>2</td>\n",
       "      <td>Baseline</td>\n",
       "      <td>Option 1</td>\n",
       "      <td>1</td>\n",
       "    </tr>\n",
       "    <tr>\n",
       "      <th>2</th>\n",
       "      <td>first</td>\n",
       "      <td>1</td>\n",
       "      <td>3</td>\n",
       "      <td>Baseline</td>\n",
       "      <td>Option 2</td>\n",
       "      <td>0</td>\n",
       "    </tr>\n",
       "    <tr>\n",
       "      <th>3</th>\n",
       "      <td>first</td>\n",
       "      <td>1</td>\n",
       "      <td>4</td>\n",
       "      <td>Baseline</td>\n",
       "      <td>Option 2</td>\n",
       "      <td>0</td>\n",
       "    </tr>\n",
       "    <tr>\n",
       "      <th>4</th>\n",
       "      <td>first</td>\n",
       "      <td>1</td>\n",
       "      <td>5</td>\n",
       "      <td>Baseline</td>\n",
       "      <td>Option 1</td>\n",
       "      <td>1</td>\n",
       "    </tr>\n",
       "  </tbody>\n",
       "</table>\n",
       "</div>"
      ],
      "text/plain": [
       "  experiment  subject  item condition selection  selectCode\n",
       "0      first        1     1  Baseline  Option 2           0\n",
       "1      first        1     2  Baseline  Option 1           1\n",
       "2      first        1     3  Baseline  Option 2           0\n",
       "3      first        1     4  Baseline  Option 2           0\n",
       "4      first        1     5  Baseline  Option 1           1"
      ]
     },
     "execution_count": 3,
     "metadata": {},
     "output_type": "execute_result"
    }
   ],
   "source": [
    "data.head()"
   ]
  },
  {
   "cell_type": "code",
   "execution_count": 4,
   "id": "66c7dd77",
   "metadata": {},
   "outputs": [
    {
     "name": "stdout",
     "output_type": "stream",
     "text": [
      "<class 'pandas.core.frame.DataFrame'>\n",
      "RangeIndex: 1440 entries, 0 to 1439\n",
      "Data columns (total 6 columns):\n",
      " #   Column      Non-Null Count  Dtype \n",
      "---  ------      --------------  ----- \n",
      " 0   experiment  1440 non-null   object\n",
      " 1   subject     1440 non-null   int64 \n",
      " 2   item        1440 non-null   int64 \n",
      " 3   condition   1440 non-null   object\n",
      " 4   selection   1440 non-null   object\n",
      " 5   selectCode  1440 non-null   int64 \n",
      "dtypes: int64(3), object(3)\n",
      "memory usage: 67.6+ KB\n"
     ]
    }
   ],
   "source": [
    "data.info()"
   ]
  },
  {
   "cell_type": "code",
   "execution_count": 5,
   "id": "9e2df837",
   "metadata": {},
   "outputs": [
    {
     "name": "stdout",
     "output_type": "stream",
     "text": [
      "experiment ['first' 'second' 'third']\n",
      "subject [ 1  2  3  4  5  6  7  8  9 10 11 12 13 14 15 16 17 18 19 20]\n",
      "item [ 1  2  3  4  5  6  7  8  9 10 11 12 13 14 15 16 17 18 19 20 21 22 23 24]\n",
      "condition ['Baseline' 'Treatment']\n",
      "selection ['Option 2' 'Option 1']\n",
      "selectCode [0 1]\n"
     ]
    }
   ],
   "source": [
    "for i, r in data.items():\n",
    "    print(i,data[i].unique())\n",
    "    "
   ]
  },
  {
   "cell_type": "code",
   "execution_count": 11,
   "id": "d61951c6",
   "metadata": {},
   "outputs": [],
   "source": [
    "#analysis first_baseline\n",
    "first_baseline = data.loc[(data['experiment']=='first')&(data['condition']=='Baseline')]"
   ]
  },
  {
   "cell_type": "code",
   "execution_count": 7,
   "id": "d3f0a9e6",
   "metadata": {},
   "outputs": [
    {
     "data": {
      "text/html": [
       "<div>\n",
       "<style scoped>\n",
       "    .dataframe tbody tr th:only-of-type {\n",
       "        vertical-align: middle;\n",
       "    }\n",
       "\n",
       "    .dataframe tbody tr th {\n",
       "        vertical-align: top;\n",
       "    }\n",
       "\n",
       "    .dataframe thead th {\n",
       "        text-align: right;\n",
       "    }\n",
       "</style>\n",
       "<table border=\"1\" class=\"dataframe\">\n",
       "  <thead>\n",
       "    <tr style=\"text-align: right;\">\n",
       "      <th></th>\n",
       "      <th>experiment</th>\n",
       "      <th>subject</th>\n",
       "      <th>item</th>\n",
       "      <th>condition</th>\n",
       "      <th>selection</th>\n",
       "      <th>selectCode</th>\n",
       "    </tr>\n",
       "  </thead>\n",
       "  <tbody>\n",
       "    <tr>\n",
       "      <th>0</th>\n",
       "      <td>first</td>\n",
       "      <td>1</td>\n",
       "      <td>1</td>\n",
       "      <td>Baseline</td>\n",
       "      <td>Option 2</td>\n",
       "      <td>0</td>\n",
       "    </tr>\n",
       "    <tr>\n",
       "      <th>1</th>\n",
       "      <td>first</td>\n",
       "      <td>1</td>\n",
       "      <td>2</td>\n",
       "      <td>Baseline</td>\n",
       "      <td>Option 1</td>\n",
       "      <td>1</td>\n",
       "    </tr>\n",
       "    <tr>\n",
       "      <th>2</th>\n",
       "      <td>first</td>\n",
       "      <td>1</td>\n",
       "      <td>3</td>\n",
       "      <td>Baseline</td>\n",
       "      <td>Option 2</td>\n",
       "      <td>0</td>\n",
       "    </tr>\n",
       "    <tr>\n",
       "      <th>3</th>\n",
       "      <td>first</td>\n",
       "      <td>1</td>\n",
       "      <td>4</td>\n",
       "      <td>Baseline</td>\n",
       "      <td>Option 2</td>\n",
       "      <td>0</td>\n",
       "    </tr>\n",
       "    <tr>\n",
       "      <th>4</th>\n",
       "      <td>first</td>\n",
       "      <td>1</td>\n",
       "      <td>5</td>\n",
       "      <td>Baseline</td>\n",
       "      <td>Option 1</td>\n",
       "      <td>1</td>\n",
       "    </tr>\n",
       "  </tbody>\n",
       "</table>\n",
       "</div>"
      ],
      "text/plain": [
       "  experiment  subject  item condition selection  selectCode\n",
       "0      first        1     1  Baseline  Option 2           0\n",
       "1      first        1     2  Baseline  Option 1           1\n",
       "2      first        1     3  Baseline  Option 2           0\n",
       "3      first        1     4  Baseline  Option 2           0\n",
       "4      first        1     5  Baseline  Option 1           1"
      ]
     },
     "execution_count": 7,
     "metadata": {},
     "output_type": "execute_result"
    }
   ],
   "source": [
    "first_baseline.head()"
   ]
  },
  {
   "cell_type": "code",
   "execution_count": 51,
   "id": "de6dadd2",
   "metadata": {
    "scrolled": true
   },
   "outputs": [
    {
     "data": {
      "text/html": [
       "<div>\n",
       "<style scoped>\n",
       "    .dataframe tbody tr th:only-of-type {\n",
       "        vertical-align: middle;\n",
       "    }\n",
       "\n",
       "    .dataframe tbody tr th {\n",
       "        vertical-align: top;\n",
       "    }\n",
       "\n",
       "    .dataframe thead th {\n",
       "        text-align: right;\n",
       "    }\n",
       "</style>\n",
       "<table border=\"1\" class=\"dataframe\">\n",
       "  <thead>\n",
       "    <tr style=\"text-align: right;\">\n",
       "      <th></th>\n",
       "      <th>item</th>\n",
       "      <th>selection</th>\n",
       "      <th>probability</th>\n",
       "    </tr>\n",
       "  </thead>\n",
       "  <tbody>\n",
       "    <tr>\n",
       "      <th>0</th>\n",
       "      <td>1</td>\n",
       "      <td>Option 1</td>\n",
       "      <td>0.70</td>\n",
       "    </tr>\n",
       "    <tr>\n",
       "      <th>1</th>\n",
       "      <td>1</td>\n",
       "      <td>Option 2</td>\n",
       "      <td>0.30</td>\n",
       "    </tr>\n",
       "    <tr>\n",
       "      <th>2</th>\n",
       "      <td>2</td>\n",
       "      <td>Option 1</td>\n",
       "      <td>0.60</td>\n",
       "    </tr>\n",
       "    <tr>\n",
       "      <th>3</th>\n",
       "      <td>2</td>\n",
       "      <td>Option 2</td>\n",
       "      <td>0.40</td>\n",
       "    </tr>\n",
       "    <tr>\n",
       "      <th>4</th>\n",
       "      <td>3</td>\n",
       "      <td>Option 1</td>\n",
       "      <td>0.55</td>\n",
       "    </tr>\n",
       "  </tbody>\n",
       "</table>\n",
       "</div>"
      ],
      "text/plain": [
       "   item selection  probability\n",
       "0     1  Option 1         0.70\n",
       "1     1  Option 2         0.30\n",
       "2     2  Option 1         0.60\n",
       "3     2  Option 2         0.40\n",
       "4     3  Option 1         0.55"
      ]
     },
     "execution_count": 51,
     "metadata": {},
     "output_type": "execute_result"
    }
   ],
   "source": [
    "#all probability calculus Fist Baseline Item 1\n",
    "prob_firstBaseline=pd.DataFrame(first_baseline.groupby(['item','selection'])['selectCode'].count()/20).reset_index(\n",
    ").rename(columns={'selectCode':'probability'})\n",
    "\n",
    "prob_firstBaseline.head()"
   ]
  },
  {
   "cell_type": "markdown",
   "id": "d27f2ee1",
   "metadata": {},
   "source": [
    "Success for item 1 is Option2. \n",
    "\n",
    "We would like to determine the probability of 25 out of 60 people choosing 'Option2', when asked about their choice for item 1."
   ]
  },
  {
   "cell_type": "code",
   "execution_count": 17,
   "id": "cec6cf76",
   "metadata": {},
   "outputs": [],
   "source": [
    "n = 60\n",
    "x = 25\n",
    "p = 0.30 #I am using this number according the data whe have in dataset"
   ]
  },
  {
   "cell_type": "code",
   "execution_count": 16,
   "id": "a407303f",
   "metadata": {},
   "outputs": [
    {
     "data": {
      "text/plain": [
       "0.016663233907264444"
      ]
     },
     "execution_count": 16,
     "metadata": {},
     "output_type": "execute_result"
    }
   ],
   "source": [
    "prob_first1 = binom.pmf(x,n,p)\n",
    "prob_first1"
   ]
  },
  {
   "cell_type": "code",
   "execution_count": 50,
   "id": "238138e8",
   "metadata": {},
   "outputs": [
    {
     "data": {
      "text/html": [
       "<div>\n",
       "<style scoped>\n",
       "    .dataframe tbody tr th:only-of-type {\n",
       "        vertical-align: middle;\n",
       "    }\n",
       "\n",
       "    .dataframe tbody tr th {\n",
       "        vertical-align: top;\n",
       "    }\n",
       "\n",
       "    .dataframe thead th {\n",
       "        text-align: right;\n",
       "    }\n",
       "</style>\n",
       "<table border=\"1\" class=\"dataframe\">\n",
       "  <thead>\n",
       "    <tr style=\"text-align: right;\">\n",
       "      <th></th>\n",
       "      <th>item</th>\n",
       "      <th>selection</th>\n",
       "      <th>probability</th>\n",
       "    </tr>\n",
       "  </thead>\n",
       "  <tbody>\n",
       "    <tr>\n",
       "      <th>0</th>\n",
       "      <td>13</td>\n",
       "      <td>Option 1</td>\n",
       "      <td>0.95</td>\n",
       "    </tr>\n",
       "    <tr>\n",
       "      <th>1</th>\n",
       "      <td>13</td>\n",
       "      <td>Option 2</td>\n",
       "      <td>0.05</td>\n",
       "    </tr>\n",
       "    <tr>\n",
       "      <th>2</th>\n",
       "      <td>14</td>\n",
       "      <td>Option 1</td>\n",
       "      <td>0.70</td>\n",
       "    </tr>\n",
       "    <tr>\n",
       "      <th>3</th>\n",
       "      <td>14</td>\n",
       "      <td>Option 2</td>\n",
       "      <td>0.30</td>\n",
       "    </tr>\n",
       "    <tr>\n",
       "      <th>4</th>\n",
       "      <td>15</td>\n",
       "      <td>Option 1</td>\n",
       "      <td>0.75</td>\n",
       "    </tr>\n",
       "  </tbody>\n",
       "</table>\n",
       "</div>"
      ],
      "text/plain": [
       "   item selection  probability\n",
       "0    13  Option 1         0.95\n",
       "1    13  Option 2         0.05\n",
       "2    14  Option 1         0.70\n",
       "3    14  Option 2         0.30\n",
       "4    15  Option 1         0.75"
      ]
     },
     "execution_count": 50,
     "metadata": {},
     "output_type": "execute_result"
    }
   ],
   "source": [
    "#all probability calculus Fist Treatment Item 1\n",
    "first_treatment = data.loc[(data['experiment']=='first')&(data['condition']=='Treatment')]\n",
    "\n",
    "prob_firstTreatment=pd.DataFrame(first_treatment.groupby(['item','selection'])['selectCode'].count()/20).reset_index(\n",
    ").rename(columns={'selectCode':'probability'})\n",
    "prob_firstTreatment.head()"
   ]
  },
  {
   "cell_type": "code",
   "execution_count": 30,
   "id": "d09f71d2",
   "metadata": {},
   "outputs": [],
   "source": [
    "n = 60\n",
    "x = 25\n",
    "p = 0.05 #I am using this number according the data whe have in dataset"
   ]
  },
  {
   "cell_type": "code",
   "execution_count": 37,
   "id": "dcc923f1",
   "metadata": {},
   "outputs": [
    {
     "data": {
      "text/plain": [
       "3e-17"
      ]
     },
     "execution_count": 37,
     "metadata": {},
     "output_type": "execute_result"
    }
   ],
   "source": [
    "prob_treatment1 = binom.pmf(x,n,p)\n",
    "np.round(prob_treatment1,17)"
   ]
  },
  {
   "cell_type": "code",
   "execution_count": 49,
   "id": "2cf9c701",
   "metadata": {},
   "outputs": [
    {
     "data": {
      "image/png": "[encoded data removed]",
      "text/plain": [
       "<Figure size 1080x360 with 1 Axes>"
      ]
     },
     "metadata": {
      "needs_background": "light"
     },
     "output_type": "display_data"
    },
    {
     "data": {
      "image/png": "[encoded data removed]",
      "text/plain": [
       "<Figure size 1080x360 with 1 Axes>"
      ]
     },
     "metadata": {
      "needs_background": "light"
     },
     "output_type": "display_data"
    }
   ],
   "source": [
    "n1 =60\n",
    "p1 = 0.3\n",
    "x1 = np.arange(0,60)\n",
    "\n",
    "fig, ax = plt.subplots(1, 1)\n",
    "ax.plot(x, binom.pmf(x1, n1, p1), 'bo', ms=8, label='binom pmf')\n",
    "ax.vlines(x, 0, binom.pmf(x1, n1, p1), colors='b', lw=5, alpha=0.5)\n",
    "plt.xlim([-0.5,21])\n",
    "plt.xticks(x)\n",
    "plt.title(\"Binomial Probability Histogram Baseline (n=60, p=0.3) Baseline Item 1\")\n",
    "plt.show()\n",
    "\n",
    "\n",
    "n2 =60\n",
    "p2 = 0.05\n",
    "x2 = np.arange(0,60)\n",
    "fig, ax = plt.subplots(1, 1)\n",
    "ax.plot(x, binom.pmf(x2, n2, p2), 'bo', ms=8, label='binom pmf')\n",
    "ax.vlines(x, 0, binom.pmf(x2, n2, p2), colors='b', lw=5, alpha=0.5)\n",
    "plt.xlim([-0.5,21])\n",
    "plt.xticks(x)\n",
    "plt.title(\"Binomial Probability Treatment Histogram (n=60, p=0.05)\")\n",
    "plt.show()"
   ]
  },
  {
   "cell_type": "markdown",
   "id": "d27ca36c",
   "metadata": {},
   "source": [
    "From the histogram above, we can observe that the Treatment Histogram has fewer success events compared to the previous one. This kind of analysis could be used to help business areas make decisions, such as implementing or not implementing a button on the website. The interpretation of the information above will depend on the business context. \n",
    "\n",
    "Obsevando o histogram acima, notamos que o Histograma referente ao Tratamento tem menos eventos de sucesso, quando comparamos com o anterior.Este tipo de análise pode ser utilizado para ajudar diferentes áreas de negócio a tomarem suas decisões, como por exemplo na implementação ou não de um botão em um website. A interpretação dos gráficos acima dependerá do contexto do negócio"
   ]
  },
  {
   "cell_type": "markdown",
   "id": "a9fa7687",
   "metadata": {},
   "source": [
    "**Analysis**\n",
    "By analyzing these plots, it appears that the IT team made a change to a button on the website with the objective of increasing the number of clicks. However, after the change, the probability of clicks seems to be lower than before. When we examine the distribution, it becomes evident that the change has not been beneficial for the business\n",
    "\n",
    "**Análise**: analisando os plots notamos que a mudança realizada pelo time de TI no posicionamento do botão em dado website não aumentou o número de cliques e por isso não beneficiou o negócio "
   ]
  }
 ],
 "metadata": {
  "kernelspec": {
   "display_name": "Python 3 (ipykernel)",
   "language": "python",
   "name": "python3"
  },
  "language_info": {
   "codemirror_mode": {
    "name": "ipython",
    "version": 3
   },
   "file_extension": ".py",
   "mimetype": "text/x-python",
   "name": "python",
   "nbconvert_exporter": "python",
   "pygments_lexer": "ipython3",
   "version": "3.9.7"
  }
 },
 "nbformat": 4,
 "nbformat_minor": 5
}
